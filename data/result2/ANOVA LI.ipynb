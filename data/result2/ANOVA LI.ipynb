{
 "cells": [
  {
   "cell_type": "code",
   "execution_count": 1,
   "metadata": {
    "collapsed": true
   },
   "outputs": [],
   "source": [
    "import numpy as np\n",
    "from scipy import stats\n",
    "from itertools import combinations\n",
    "from statsmodels.stats.multitest import multipletests\n",
    "from statsmodels.stats.libqsturng import psturng\n",
    "import warnings\n",
    "\n",
    "\n",
    "def kw_dunn(groups, to_compare=None, alpha=0.05, method='bonf'):\n",
    "    \"\"\"\n",
    "    Kruskal-Wallis 1-way ANOVA with Dunn's multiple comparison test\n",
    "    Arguments:\n",
    "    ---------------\n",
    "    groups: sequence\n",
    "        arrays corresponding to k mutually independent samples from\n",
    "        continuous populations\n",
    "    to_compare: sequence\n",
    "        tuples specifying the indices of pairs of groups to compare, e.g.\n",
    "        [(0, 1), (0, 2)] would compare group 0 with 1 & 2. by default, all\n",
    "        possible pairwise comparisons between groups are performed.\n",
    "    alpha: float\n",
    "        family-wise error rate used for correcting for multiple comparisons\n",
    "        (see statsmodels.stats.multitest.multipletests for details)\n",
    "    method: string\n",
    "        method used to adjust p-values to account for multiple corrections (see\n",
    "        statsmodels.stats.multitest.multipletests for options)\n",
    "    Returns:\n",
    "    ---------------\n",
    "    H: float\n",
    "        Kruskal-Wallis H-statistic\n",
    "    p_omnibus: float\n",
    "        p-value corresponding to the global null hypothesis that the medians of\n",
    "        the groups are all equal\n",
    "    Z_pairs: float array\n",
    "        Z-scores computed for the absolute difference in mean ranks for each\n",
    "        pairwise comparison\n",
    "    p_corrected: float array\n",
    "        corrected p-values for each pairwise comparison, corresponding to the\n",
    "        null hypothesis that the pair of groups has equal medians. note that\n",
    "        these are only meaningful if the global null hypothesis is rejected.\n",
    "    reject: bool array\n",
    "        True for pairs where the null hypothesis can be rejected for the given\n",
    "        alpha\n",
    "    Reference:\n",
    "    ---------------\n",
    "    Gibbons, J. D., & Chakraborti, S. (2011). Nonparametric Statistical\n",
    "    Inference (5th ed., pp. 353-357). Boca Raton, FL: Chapman & Hall.\n",
    "    \"\"\"\n",
    "\n",
    "    # omnibus test (K-W ANOVA)\n",
    "    # -------------------------------------------------------------------------\n",
    "\n",
    "    groups = [np.array(gg) for gg in groups]\n",
    "\n",
    "    k = len(groups)\n",
    "\n",
    "    n = np.array([len(gg) for gg in groups])\n",
    "    if np.any(n < 5):\n",
    "        warnings.warn(\"Sample sizes < 5 are not recommended (K-W test assumes \"\n",
    "                      \"a chi square distribution)\")\n",
    "\n",
    "    allgroups = np.concatenate(groups)\n",
    "    N = len(allgroups)\n",
    "    ranked = stats.rankdata(allgroups)\n",
    "\n",
    "    # correction factor for ties\n",
    "    T = stats.tiecorrect(ranked)\n",
    "    if T == 0:\n",
    "        raise ValueError('All numbers are identical in kruskal')\n",
    "\n",
    "    # sum of ranks for each group\n",
    "    j = np.insert(np.cumsum(n), 0, 0)\n",
    "    R = np.empty(k, dtype=np.float)\n",
    "    for ii in range(k):\n",
    "        R[ii] = ranked[j[ii]:j[ii + 1]].sum()\n",
    "\n",
    "    # the Kruskal-Wallis H-statistic\n",
    "    H = (12. / (N * (N + 1.))) * ((R ** 2.) / n).sum() - 3 * (N + 1)\n",
    "\n",
    "    # apply correction factor for ties\n",
    "    H /= T\n",
    "\n",
    "    df_omnibus = k - 1\n",
    "    p_omnibus = stats.chisqprob(H, df_omnibus)\n",
    "\n",
    "    # multiple comparisons\n",
    "    # -------------------------------------------------------------------------\n",
    "\n",
    "    # by default we compare every possible pair of groups\n",
    "    if to_compare is None:\n",
    "        to_compare = tuple(combinations(range(k), 2))\n",
    "\n",
    "    ncomp = len(to_compare)\n",
    "\n",
    "    Z_pairs = np.empty(ncomp, dtype=np.float)\n",
    "    p_uncorrected = np.empty(ncomp, dtype=np.float)\n",
    "    Rmean = R / n\n",
    "\n",
    "    for pp, (ii, jj) in enumerate(to_compare):\n",
    "\n",
    "        # standardized score\n",
    "        Zij = (np.abs(Rmean[ii] - Rmean[jj]) /\n",
    "               np.sqrt((1. / 12.) * N * (N + 1) * (1. / n[ii] + 1. / n[jj])))\n",
    "        Z_pairs[pp] = Zij\n",
    "\n",
    "    # corresponding p-values obtained from upper quantiles of the standard\n",
    "    # normal distribution\n",
    "    p_uncorrected = stats.norm.sf(Z_pairs) * 2.\n",
    "\n",
    "    # correction for multiple comparisons\n",
    "    reject, p_corrected, alphac_sidak, alphac_bonf = multipletests(\n",
    "        p_uncorrected, method=method\n",
    "    )\n",
    "\n",
    "    return H, p_omnibus, Z_pairs, p_corrected, reject"
   ]
  },
  {
   "cell_type": "code",
   "execution_count": 2,
   "metadata": {
    "collapsed": false
   },
   "outputs": [],
   "source": [
    "import matplotlib.pyplot as plt\n",
    "import matplotlib\n",
    "SIZE = 16\n",
    "MEDIUM_SIZE = 18\n",
    "BIGGER_SIZE = 20\n",
    "\n",
    "plt.rc('font', size=SIZE)                # controls default text sizes\n",
    "plt.rc('axes', titlesize=SIZE)           # fontsize of the axes title\n",
    "plt.rc('axes', labelsize=SIZE)    # fontsize of the x and y labels\n",
    "plt.rc('xtick', labelsize=SIZE)          # fontsize of the tick labels\n",
    "plt.rc('ytick', labelsize=SIZE)          # fontsize of the tick labels\n",
    "plt.rc('legend', fontsize=SIZE)          # legend fontsize\n",
    "plt.rc('figure', titlesize=SIZE)  # fontsize of the figure title\n",
    "%matplotlib inline"
   ]
  },
  {
   "cell_type": "code",
   "execution_count": 3,
   "metadata": {
    "collapsed": true
   },
   "outputs": [],
   "source": [
    "from scipy.io import loadmat"
   ]
  },
  {
   "cell_type": "code",
   "execution_count": 4,
   "metadata": {
    "collapsed": true
   },
   "outputs": [],
   "source": [
    "import pandas as pd"
   ]
  },
  {
   "cell_type": "code",
   "execution_count": 5,
   "metadata": {
    "collapsed": true
   },
   "outputs": [],
   "source": [
    "diff = loadmat('difference.mat')\n",
    "diff = diff['difference_norm']"
   ]
  },
  {
   "cell_type": "code",
   "execution_count": 6,
   "metadata": {
    "collapsed": true
   },
   "outputs": [],
   "source": [
    "df = pd.DataFrame({'LI':diff.flatten(),'Group':np.repeat([1,2,3,4,5],20)})"
   ]
  },
  {
   "cell_type": "code",
   "execution_count": 7,
   "metadata": {
    "collapsed": false
   },
   "outputs": [
    {
     "data": {
      "image/png": "[encoded data removed]",
      "text/plain": [
       "<matplotlib.figure.Figure at 0x26648c67208>"
      ]
     },
     "metadata": {},
     "output_type": "display_data"
    }
   ],
   "source": [
    "fig, ax = plt.subplots(figsize=(16,8))\n",
    "ax=df.boxplot('LI',by='Group',ax=ax,fontsize=16,grid=False)\n",
    "ax.set(title='Experiment 2 and Wang et al. (2001)\\n N = 20,20,20,20,20',\n",
    "      xticklabels=['Hummed Tones ','Simple Lexical Tones /i/','Pseudo words /gi/','Real words /di/\\n',\n",
    "                   'Wang et al., 2001,\\n complex vowel /fan/'],\n",
    "      ylabel='Laterality Index \\n REA <---------------------------> LEA',xlabel='Tasks',\n",
    "      ylim=(-0.8,0.8))\n",
    "\n",
    "ax.axhline(0,color='red',linestyle='--')\n",
    "ax.spines['right'].set_visible(False)\n",
    "ax.spines['top'].set_visible(False)\n",
    "ax.xaxis.set_ticks_position('bottom')\n",
    "ax.yaxis.set_ticks_position('left')\n",
    "plt.suptitle('')\n",
    "fig.savefig('laterality index.png')"
   ]
  },
  {
   "cell_type": "markdown",
   "metadata": {},
   "source": [
    "# comment:\n",
    "I guess errorbar would be just fine, but in here it is easier to plot box plot. It is the same thing I showed you before."
   ]
  },
  {
   "cell_type": "markdown",
   "metadata": {},
   "source": [
    "# I did a Kruskal-Wallis 1-way ANOVA with Dunn's multiple comparison test, which is the same as I did in Matlab\n",
    "\n",
    "The difference is only significant between hummed tones and Wang's complex vowels. "
   ]
  },
  {
   "cell_type": "code",
   "execution_count": 8,
   "metadata": {
    "collapsed": false
   },
   "outputs": [
    {
     "data": {
      "text/plain": [
       "(4, 20)"
      ]
     },
     "execution_count": 8,
     "metadata": {},
     "output_type": "execute_result"
    }
   ],
   "source": [
    "diff[:4,:].shape"
   ]
  },
  {
   "cell_type": "code",
   "execution_count": 9,
   "metadata": {
    "collapsed": false
   },
   "outputs": [
    {
     "name": "stdout",
     "output_type": "stream",
     "text": [
      "[(0, 1), (0, 2), (0, 3), (0, 4), (1, 2), (1, 3), (1, 4), (2, 3), (2, 4), (3, 4)] [ 1.          1.          1.          0.02113338  1.          1.\n",
      "  0.19102812  1.          0.31336992  0.95372673]\n"
     ]
    }
   ],
   "source": [
    "a,b,c,d,e=kw_dunn(diff,to_compare=[(0,1),(0,2),(0,3),(0,4),(1,2),(1,3),(1,4),(2,3),(2,4),(3,4)])\n",
    "print([(0,1),(0,2),(0,3),(0,4),(1,2),(1,3),(1,4),(2,3),(2,4),(3,4)],d)"
   ]
  },
  {
   "cell_type": "code",
   "execution_count": 10,
   "metadata": {
    "collapsed": false
   },
   "outputs": [
    {
     "name": "stdout",
     "output_type": "stream",
     "text": [
      "10.5774100055 0.0317472289336 [ 0.73030578  0.92105729  1.40611113  3.07382433  0.19075151  0.67580535\n",
      "  2.34351855  0.48505384  2.15276704  1.6677132 ] [ 1.          1.          1.          0.02113338  1.          1.\n",
      "  0.19102812  1.          0.31336992  0.95372673] [False False False  True False False False False False False]\n"
     ]
    }
   ],
   "source": [
    "print(a,b,c,d,e)"
   ]
  },
  {
   "cell_type": "markdown",
   "metadata": {},
   "source": [
    "# I also did a 1-way ANOVA, which is not significant "
   ]
  },
  {
   "cell_type": "code",
   "execution_count": 18,
   "metadata": {
    "collapsed": false
   },
   "outputs": [
    {
     "data": {
      "text/plain": [
       "F_onewayResult(statistic=2.3604728677780611, pvalue=0.058764959449229721)"
      ]
     },
     "execution_count": 18,
     "metadata": {},
     "output_type": "execute_result"
    }
   ],
   "source": [
    "stats.f_oneway(diff[0,:],diff[1,:],diff[2,:],diff[3,:],diff[4,:])"
   ]
  },
  {
   "cell_type": "code",
   "execution_count": 19,
   "metadata": {
    "collapsed": false,
    "scrolled": true
   },
   "outputs": [
    {
     "data": {
      "text/html": [
       "<div>\n",
       "<table border=\"1\" class=\"dataframe\">\n",
       "  <thead>\n",
       "    <tr style=\"text-align: right;\">\n",
       "      <th></th>\n",
       "      <th>sum_sq</th>\n",
       "      <th>df</th>\n",
       "      <th>F</th>\n",
       "      <th>PR(&gt;F)</th>\n",
       "    </tr>\n",
       "  </thead>\n",
       "  <tbody>\n",
       "    <tr>\n",
       "      <th>group</th>\n",
       "      <td>0.316883</td>\n",
       "      <td>4.0</td>\n",
       "      <td>2.360473</td>\n",
       "      <td>0.058765</td>\n",
       "    </tr>\n",
       "    <tr>\n",
       "      <th>Residual</th>\n",
       "      <td>3.188332</td>\n",
       "      <td>95.0</td>\n",
       "      <td>NaN</td>\n",
       "      <td>NaN</td>\n",
       "    </tr>\n",
       "  </tbody>\n",
       "</table>\n",
       "</div>"
      ],
      "text/plain": [
       "            sum_sq    df         F    PR(>F)\n",
       "group     0.316883   4.0  2.360473  0.058765\n",
       "Residual  3.188332  95.0       NaN       NaN"
      ]
     },
     "execution_count": 19,
     "metadata": {},
     "output_type": "execute_result"
    }
   ],
   "source": [
    "import statsmodels.api as sm\n",
    "from statsmodels.formula.api import ols\n",
    "df['group'] = df.Group.map({1:'hum',2:'simple vowel',3:'non word',4:'real word',5:'comple vowel'})\n",
    "mod = ols('LI ~ group',\n",
    "                data=df).fit()\n",
    "                \n",
    "aov_table = sm.stats.anova_lm(mod, typ=2)\n",
    "aov_table"
   ]
  },
  {
   "cell_type": "code",
   "execution_count": 11,
   "metadata": {
    "collapsed": true
   },
   "outputs": [],
   "source": [
    "from statsmodels.stats.multicomp import pairwise_tukeyhsd\n",
    "from statsmodels.stats.multicomp import MultiComparison"
   ]
  },
  {
   "cell_type": "markdown",
   "metadata": {},
   "source": [
    "# So the multiple comparison after the ANOVA is not significant"
   ]
  },
  {
   "cell_type": "code",
   "execution_count": 12,
   "metadata": {
    "collapsed": false
   },
   "outputs": [
    {
     "name": "stdout",
     "output_type": "stream",
     "text": [
      "Multiple Comparison of Means - Tukey HSD,FWER=0.05\n",
      "============================================\n",
      "group1 group2 meandiff  lower  upper  reject\n",
      "--------------------------------------------\n",
      "  1      2    -0.0206  -0.1817 0.1405 False \n",
      "  1      3    -0.0708  -0.2319 0.0903 False \n",
      "  1      4    -0.1009   -0.262 0.0602 False \n",
      "  1      5    -0.1569   -0.318 0.0042 False \n",
      "  2      3    -0.0502  -0.2113 0.1109 False \n",
      "  2      4    -0.0803  -0.2414 0.0808 False \n",
      "  2      5    -0.1363  -0.2974 0.0248 False \n",
      "  3      4    -0.0301  -0.1912 0.131  False \n",
      "  3      5    -0.0861  -0.2472 0.075  False \n",
      "  4      5     -0.056  -0.2171 0.1051 False \n",
      "--------------------------------------------\n",
      "[1 2 3 4 5]\n"
     ]
    }
   ],
   "source": [
    "mc = MultiComparison(df['LI'], df['Group'])\n",
    "result = mc.tukeyhsd()\n",
    " \n",
    "print(result)\n",
    "print(mc.groupsunique)"
   ]
  },
  {
   "cell_type": "markdown",
   "metadata": {},
   "source": [
    "# I try what Xing said about two way ANOVA based on ears (left vs right) and tasks (4 in experiment 2 and Wang paper)"
   ]
  },
  {
   "cell_type": "code",
   "execution_count": 14,
   "metadata": {
    "collapsed": true
   },
   "outputs": [],
   "source": [
    "ears = loadmat('ears.mat')"
   ]
  },
  {
   "cell_type": "code",
   "execution_count": 15,
   "metadata": {
    "collapsed": false
   },
   "outputs": [],
   "source": [
    "grand_leftcol = ears['grand_leftCol']\n",
    "grand_rightcol = ears['grand_rightCol']"
   ]
  },
  {
   "cell_type": "code",
   "execution_count": 33,
   "metadata": {
    "collapsed": true
   },
   "outputs": [],
   "source": [
    "from statsmodels.graphics.factorplots import interaction_plot"
   ]
  },
  {
   "cell_type": "code",
   "execution_count": 44,
   "metadata": {
    "collapsed": false,
    "scrolled": true
   },
   "outputs": [],
   "source": [
    "P = ['Hummed Tones ','Simple Lexical Tones /i/','Pseudo words /gi/','Real words /di/\\n',\n",
    "                   'Wang et al., 2001,\\n complex vowel /fan/']\n",
    "df = pd.DataFrame({'data':np.concatenate((grand_leftcol.flatten(),grand_rightcol.flatten())),\n",
    "                   'group':np.concatenate((np.repeat(np.arange(0,5),20),np.repeat(np.arange(0,5),20))),\n",
    "                  'ear':np.concatenate((np.zeros(len(grand_leftcol.flatten())),np.ones(len(grand_leftcol.flatten()))))})\n",
    "df.ear = df.ear.map({0:'left',1:'right'})\n"
   ]
  },
  {
   "cell_type": "code",
   "execution_count": 35,
   "metadata": {
    "collapsed": false
   },
   "outputs": [
    {
     "data": {
      "image/png": "[encoded data removed]",
      "text/plain": [
       "<matplotlib.figure.Figure at 0xed54be0>"
      ]
     },
     "metadata": {},
     "output_type": "display_data"
    }
   ],
   "source": [
    "fig,ax = plt.subplots(figsize=(16,8))\n",
    "fig = interaction_plot(df.group, df.ear, df.data,\n",
    "             colors=['black','black'], markers=['D','^'], ms=10,ax=ax,\n",
    "                     xlabel='Tasks',ylabel='Correct Rate')\n",
    "ax.errorbar([1,2,3,4,5],df[df.ear=='left'].groupby('group').mean().values,\n",
    "            df[df.ear=='left'].groupby('group').std().values/np.sqrt(20),color='black')\n",
    "ax.errorbar([1,2,3,4,5],df[df.ear=='right'].groupby('group').mean().values,\n",
    "            df[df.ear=='right'].groupby('group').std().values/np.sqrt(20),color='black')\n",
    "ax.set(title='Experiment 2 and Wang et al. (2001)\\n N = 20,20,20,20,20',xticks=[1,2,3,4,5],\n",
    "      xticklabels=['Hummed Tones ','Simple Lexical Tones /i/','Pseudo words /gi/','Real words /di/\\n',\n",
    "                   'Wang et al., 2001,\\n complex vowel /fan/'],\n",
    "      )\n",
    "\n",
    "ax.spines['right'].set_visible(False)\n",
    "ax.spines['top'].set_visible(False)\n",
    "ax.xaxis.set_ticks_position('bottom')\n",
    "ax.yaxis.set_ticks_position('left')\n",
    "fig.savefig('2 way anova.png')"
   ]
  },
  {
   "cell_type": "markdown",
   "metadata": {},
   "source": [
    "# Comment on figure: I feel this figure is telling the same story as the box plot but it is clearer that that is an interaction. \n",
    "\n",
    "# so I did a 2-way ANOVA, and it has a main effect on tasks and an interaction"
   ]
  },
  {
   "cell_type": "code",
   "execution_count": 45,
   "metadata": {
    "collapsed": false,
    "scrolled": true
   },
   "outputs": [],
   "source": [
    "from statsmodels.formula.api import ols\n",
    "from statsmodels.stats.anova import anova_lm\n",
    "df.group = df.group.map({ii:name for ii,name in enumerate(P)})\n",
    "formula = 'data ~ group + ear + group:ear'\n",
    "model = ols(formula,df).fit()\n",
    "aov_table = anova_lm(model, typ=2)"
   ]
  },
  {
   "cell_type": "code",
   "execution_count": 48,
   "metadata": {
    "collapsed": true
   },
   "outputs": [],
   "source": [
    "def eta_squared(aov):\n",
    "    aov['eta_sq'] = 'NaN'\n",
    "    aov['eta_sq'] = aov[:-1]['sum_sq']/sum(aov['sum_sq'])\n",
    "    return aov\n",
    " \n",
    "def omega_squared(aov):\n",
    "    mse = aov['sum_sq'][-1]/aov['df'][-1]\n",
    "    aov['omega_sq'] = 'NaN'\n",
    "    aov['omega_sq'] = (aov[:-1]['sum_sq']-(aov[:-1]['df']*mse))/(sum(aov['sum_sq'])+mse)\n",
    "    return aov"
   ]
  },
  {
   "cell_type": "code",
   "execution_count": 49,
   "metadata": {
    "collapsed": false
   },
   "outputs": [
    {
     "name": "stdout",
     "output_type": "stream",
     "text": [
      "                 sum_sq     df             F    PR(>F)        eta_sq  omega_sq\n",
      "group      3.698161e-30    4.0  1.101909e-28  1.000000  2.027320e-30 -0.018314\n",
      "ear        7.155435e-02    1.0  8.528173e+00  0.003920  3.922587e-02  0.034468\n",
      "group:ear  1.584415e-01    4.0  4.720946e+00  0.001181  8.685715e-02  0.068145\n",
      "Residual   1.594166e+00  190.0           NaN       NaN           NaN       NaN\n"
     ]
    }
   ],
   "source": [
    "eta_squared(aov_table)\n",
    "omega_squared(aov_table)\n",
    "print(aov_table)"
   ]
  },
  {
   "cell_type": "code",
   "execution_count": 50,
   "metadata": {
    "collapsed": false
   },
   "outputs": [
    {
     "data": {
      "image/png": "[encoded data removed]",
      "text/plain": [
       "<matplotlib.figure.Figure at 0xae1aa90>"
      ]
     },
     "metadata": {},
     "output_type": "display_data"
    }
   ],
   "source": [
    "res = model.resid \n",
    "fig = sm.qqplot(res, line='s')\n",
    "fig.savefig('residual.png')"
   ]
  },
  {
   "cell_type": "code",
   "execution_count": 6,
   "metadata": {
    "collapsed": true
   },
   "outputs": [],
   "source": [
    "import pyvttbl as pt\n",
    "from collections import namedtuple"
   ]
  },
  {
   "cell_type": "code",
   "execution_count": 8,
   "metadata": {
    "collapsed": false
   },
   "outputs": [
    {
     "data": {
      "text/plain": [
       "(5L, 20L)"
      ]
     },
     "execution_count": 8,
     "metadata": {},
     "output_type": "execute_result"
    }
   ],
   "source": [
    "diff.shape"
   ]
  },
  {
   "cell_type": "code",
   "execution_count": 11,
   "metadata": {
    "collapsed": false
   },
   "outputs": [],
   "source": [
    "Sub = namedtuple('Sub',['Sub_id','diff','tasks'])\n",
    "df = pt.DataFrame()\n",
    "P = ['Hummed Tones ','Simple Lexical Tones /i/','Pseudo words /gi/','Real words /di/\\n']#,\n",
    "                   #'Wang et al., 2001,\\n complex vowel /fan/']\n",
    "df = pt.DataFrame({'Laterality_Index':diff[:4].flatten(),'Tasks':np.repeat(P,20),\n",
    " 'Sub_id':np.vstack((np.arange(1,21),np.arange(1,21),np.arange(1,21),np.arange(1,21))).flatten()})\n",
    "#df['condition'] = df['Group'].apply(map({ii:name for ii,name in enumerate(P)}))"
   ]
  },
  {
   "cell_type": "code",
   "execution_count": 12,
   "metadata": {
    "collapsed": false
   },
   "outputs": [
    {
     "name": "stderr",
     "output_type": "stream",
     "text": [
      "c:\\Anaconda2\\lib\\site-packages\\pyvttbl\\stats\\_anova.py:1240: VisibleDeprecationWarning: using a non-integer number instead of an integer will result in an error in the future\n",
      "  return list(array(list(zeros((p-len(b))))+b)+1.)\n"
     ]
    }
   ],
   "source": [
    "aov=df.anova('Laterality_Index',sub='Sub_id',wfactors=['Tasks'])"
   ]
  },
  {
   "cell_type": "markdown",
   "metadata": {},
   "source": [
    "# Sort of repeated measure ANOVA on laterality Index"
   ]
  },
  {
   "cell_type": "code",
   "execution_count": 13,
   "metadata": {
    "collapsed": false
   },
   "outputs": [
    {
     "name": "stdout",
     "output_type": "stream",
     "text": [
      "Laterality_Index ~ Tasks\n",
      "\n",
      "TESTS OF WITHIN SUBJECTS EFFECTS\n",
      "\n",
      "Measure: Laterality_Index\n",
      "   Source                           Type III    eps      df      MS       F     Sig.    et2_G   Obs.    SE     95% CI   lambda   Obs.  \n",
      "                                       SS                                                                                        Power \n",
      "======================================================================================================================================\n",
      "Tasks          Sphericity Assumed      0.127       -        3   0.042   1.229   0.308   0.043     20   0.042    0.083    1.293   0.131 \n",
      "               Greenhouse-Geisser      0.127   0.817    2.451   0.052   1.229   0.307   0.043     20   0.042    0.083    1.293   0.122 \n",
      "               Huynh-Feldt             0.127   0.817    2.451   0.052   1.229   0.307   0.043     20   0.042    0.083    1.293   0.122 \n",
      "               Box                     0.127   0.333        1   0.127   1.229   0.281   0.043     20   0.042    0.083    1.293   0.096 \n",
      "--------------------------------------------------------------------------------------------------------------------------------------\n",
      "Error(Tasks)   Sphericity Assumed      1.971       -       57   0.035                                                                  \n",
      "               Greenhouse-Geisser      1.971   0.817   46.561   0.042                                                                  \n",
      "               Huynh-Feldt             1.971   0.817   46.561   0.042                                                                  \n",
      "               Box                     1.971   0.333       19   0.104                                                                  \n",
      "\n",
      "TABLES OF ESTIMATED MARGINAL MEANS\n",
      "\n",
      "Estimated Marginal Means for Tasks\n",
      "         Tasks             Mean    Std. Error   95% Lower Bound   95% Upper Bound \n",
      "=================================================================================\n",
      "Hummed Tones               0.108        0.042             0.025             0.191 \n",
      "Pseudo words /gi/          0.037        0.049            -0.059             0.133 \n",
      "Real words /di/            0.007        0.037            -0.066             0.080 \n",
      "Simple Lexical Tones /i/   0.087        0.046            -0.004             0.178 \n",
      "\n",
      "\n"
     ]
    }
   ],
   "source": [
    "print(aov)"
   ]
  },
  {
   "cell_type": "markdown",
   "metadata": {},
   "source": [
    "# sort of repeated measure ANOVA on ear effects"
   ]
  },
  {
   "cell_type": "code",
   "execution_count": 16,
   "metadata": {
    "collapsed": true
   },
   "outputs": [],
   "source": [
    "k = np.vstack((np.arange(1,21),np.arange(1,21),np.arange(1,21),np.arange(1,21))).flatten()\n",
    "df = pt.DataFrame({'data':np.concatenate((grand_leftcol[:4,:].flatten(),grand_rightcol[:4,:].flatten())),\n",
    "                   'group':np.concatenate((np.repeat(P,20),np.repeat(P,20))),\n",
    "                  'ear':np.concatenate((np.repeat(['Left'],len(grand_leftcol[:4,:].flatten())),\n",
    "                                        np.repeat(['Right'],len(grand_leftcol[:4,:].flatten())))),\n",
    "'Sub_id':np.concatenate((k, k))})"
   ]
  },
  {
   "cell_type": "code",
   "execution_count": 17,
   "metadata": {
    "collapsed": true
   },
   "outputs": [],
   "source": [
    "df.box_plot('data',factors=['ear','group'])"
   ]
  },
  {
   "cell_type": "code",
   "execution_count": 18,
   "metadata": {
    "collapsed": false
   },
   "outputs": [],
   "source": [
    "aov = df.anova('data',sub='Sub_id',wfactors=['ear','group'])"
   ]
  },
  {
   "cell_type": "code",
   "execution_count": 19,
   "metadata": {
    "collapsed": false
   },
   "outputs": [
    {
     "name": "stdout",
     "output_type": "stream",
     "text": [
      "data ~ ear * group\n",
      "\n",
      "TESTS OF WITHIN SUBJECTS EFFECTS\n",
      "\n",
      "Measure: data\n",
      "   Source                           Type III     eps      df        MS         F     Sig.      et2_G     Obs.      SE        95% CI     lambda   Obs.  \n",
      "                                       SS                                                                                                        Power \n",
      "======================================================================================================================================================\n",
      "ear            Sphericity Assumed       0.142       -        1       0.142   5.556   0.029       0.097     80       0.019       0.037   23.394   0.996 \n",
      "               Greenhouse-Geisser       0.142       1        1       0.142   5.556   0.029       0.097     80       0.019       0.037   23.394   0.996 \n",
      "               Huynh-Feldt              0.142       1        1       0.142   5.556   0.029       0.097     80       0.019       0.037   23.394   0.996 \n",
      "               Box                      0.142       1        1       0.142   5.556   0.029       0.097     80       0.019       0.037   23.394   0.996 \n",
      "------------------------------------------------------------------------------------------------------------------------------------------------------\n",
      "Error(ear)     Sphericity Assumed       0.486       -       19       0.026                                                                             \n",
      "               Greenhouse-Geisser       0.486       1       19       0.026                                                                             \n",
      "               Huynh-Feldt              0.486       1       19       0.026                                                                             \n",
      "               Box                      0.486       1       19       0.026                                                                             \n",
      "------------------------------------------------------------------------------------------------------------------------------------------------------\n",
      "group          Sphericity Assumed   9.630e-35       -        3   3.210e-35   0.014   0.998   6.546e-35     40   7.797e-18   1.528e-17    0.029   0.052 \n",
      "               Greenhouse-Geisser   9.630e-35   0.834    2.502   3.849e-35   0.014   0.995   6.546e-35     40   7.797e-18   1.528e-17    0.029   0.051 \n",
      "               Huynh-Feldt          9.630e-35   0.834    2.502   3.849e-35   0.014   0.995   6.546e-35     40   7.797e-18   1.528e-17    0.029   0.051 \n",
      "               Box                  9.630e-35   0.333        1   9.630e-35   0.014   0.908   6.546e-35     40   7.797e-18   1.528e-17    0.029   0.051 \n",
      "------------------------------------------------------------------------------------------------------------------------------------------------------\n",
      "Error(group)   Sphericity Assumed   1.328e-31       -       57   2.330e-33                                                                             \n",
      "               Greenhouse-Geisser   1.328e-31   0.834   47.534   2.794e-33                                                                             \n",
      "               Huynh-Feldt          1.328e-31   0.834   47.534   2.794e-33                                                                             \n",
      "               Box                  1.328e-31   0.333       19   6.989e-33                                                                             \n",
      "------------------------------------------------------------------------------------------------------------------------------------------------------\n",
      "ear *          Sphericity Assumed       0.064       -        3       0.021   1.229   0.308       0.043     20       0.030       0.059    1.293   0.131 \n",
      "group          Greenhouse-Geisser       0.064   0.817    2.451       0.026   1.229   0.307       0.043     20       0.030       0.059    1.293   0.122 \n",
      "               Huynh-Feldt              0.064   0.817    2.451       0.026   1.229   0.307       0.043     20       0.030       0.059    1.293   0.122 \n",
      "               Box                      0.064   0.333        1       0.064   1.229   0.281       0.043     20       0.030       0.059    1.293   0.096 \n",
      "------------------------------------------------------------------------------------------------------------------------------------------------------\n",
      "Error(ear *    Sphericity Assumed       0.985       -       57       0.017                                                                             \n",
      "group)         Greenhouse-Geisser       0.985   0.817   46.561       0.021                                                                             \n",
      "               Huynh-Feldt              0.985   0.817   46.561       0.021                                                                             \n",
      "               Box                      0.985   0.333       19       0.052                                                                             \n",
      "\n",
      "TABLES OF ESTIMATED MARGINAL MEANS\n",
      "\n",
      "Estimated Marginal Means for ear\n",
      " ear    Mean    Std. Error   95% Lower Bound   95% Upper Bound \n",
      "==============================================================\n",
      "Left    0.530        0.011             0.508             0.551 \n",
      "Right   0.470        0.011             0.449             0.492 \n",
      "\n",
      "Estimated Marginal Means for group\n",
      "         group             Mean    Std. Error   95% Lower Bound   95% Upper Bound \n",
      "=================================================================================\n",
      "Hummed Tones               0.500        0.017             0.466             0.534 \n",
      "Pseudo words /gi/          0.500        0.017             0.466             0.534 \n",
      "Real words /di/            0.500        0.013             0.475             0.525 \n",
      "Simple Lexical Tones /i/   0.500        0.018             0.465             0.535 \n",
      "\n",
      "Estimated Marginal Means for ear * group\n",
      " ear             group             Mean    Std. Error   95% Lower Bound   95% Upper Bound \n",
      "=========================================================================================\n",
      "Left    Hummed Tones               0.554        0.021             0.512             0.595 \n",
      "Left    Pseudo words /gi/          0.518        0.025             0.470             0.567 \n",
      "Left    Real words /di/            0.503        0.019             0.467             0.540 \n",
      "Left    Simple Lexical Tones /i/   0.544        0.023             0.498             0.589 \n",
      "Right   Hummed Tones               0.446        0.021             0.405             0.488 \n",
      "Right   Pseudo words /gi/          0.482        0.025             0.433             0.530 \n",
      "Right   Real words /di/            0.497        0.019             0.460             0.533 \n",
      "Right   Simple Lexical Tones /i/   0.456        0.023             0.411             0.502 \n",
      "\n",
      "\n"
     ]
    }
   ],
   "source": [
    "print(aov)"
   ]
  },
  {
   "cell_type": "code",
   "execution_count": null,
   "metadata": {
    "collapsed": true
   },
   "outputs": [],
   "source": []
  }
 ],
 "metadata": {
  "anaconda-cloud": {},
  "kernelspec": {
   "display_name": "Python [Root]",
   "language": "python",
   "name": "Python [Root]"
  },
  "language_info": {
   "codemirror_mode": {
    "name": "ipython",
    "version": 3
   },
   "file_extension": ".py",
   "mimetype": "text/x-python",
   "name": "python",
   "nbconvert_exporter": "python",
   "pygments_lexer": "ipython3",
   "version": "3.5.1"
  }
 },
 "nbformat": 4,
 "nbformat_minor": 0
}

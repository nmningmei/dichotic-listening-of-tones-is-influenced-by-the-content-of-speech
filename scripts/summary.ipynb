{
 "cells": [
  {
   "cell_type": "code",
   "execution_count": 1,
   "metadata": {},
   "outputs": [],
   "source": [
    "import os\n",
    "import utils\n",
    "import pandas as pd\n",
    "import numpy as np\n",
    "import seaborn as sns\n",
    "from matplotlib import pyplot as plt\n",
    "import pingouin as pg\n",
    "from scipy import stats\n",
    "from sklearn import linear_model\n",
    "from sklearn.model_selection import LeaveOneOut,cross_validate\n",
    "\n",
    "sns.set_style('white')\n",
    "sns.set_context('poster')\n",
    "plt.rcParams[\"font.weight\"] = \"bold\"\n",
    "plt.rcParams[\"axes.labelweight\"] = \"bold\""
   ]
  },
  {
   "cell_type": "code",
   "execution_count": 2,
   "metadata": {},
   "outputs": [],
   "source": [
    "def star(x):\n",
    "    if x < 0.001:\n",
    "        return \"***\"\n",
    "    elif x < 0.01:\n",
    "        return \"**\"\n",
    "    elif x < 0.05:\n",
    "        return \"*\"\n",
    "    else:\n",
    "        return 'n.s.'\n",
    "order_x = ['Hummed\\ntones',\n",
    "           'Simple vowel\\ntones',\n",
    "           'CV Pseudo-word\\ntones',\n",
    "           'CV word\\ntones']\n",
    "figures_dir     = '../figures'\n",
    "dpi = 500\n",
    "replacement = {\"experiment\":\"experiment\",\n",
    "               \"side\":\"side of ears\",\n",
    "               \"condition\":\"condition\",\n",
    "               \"Exp. 1\":\"experiment 1\",\n",
    "               \"Exp. 2\":\"experiment 2\",\n",
    "               \"Interaction\":\"interaction\",\n",
    "               \"condition * side\": \"interaction\"}"
   ]
  },
  {
   "cell_type": "markdown",
   "metadata": {},
   "source": [
    "# Figure 3"
   ]
  },
  {
   "cell_type": "code",
   "execution_count": 3,
   "metadata": {},
   "outputs": [],
   "source": [
    "df_figure_3 = pd.read_csv('../results/for_figure3.csv')\n",
    "df_figure_3_RT = pd.read_csv('../results/for_figure3_RT.csv')"
   ]
  },
  {
   "cell_type": "markdown",
   "metadata": {},
   "source": [
    "## mixed effect ANOVA\n",
    "\n",
    "1. correct rate ~ experiment * side\n",
    "2. RT ~ experiment * side"
   ]
  },
  {
   "cell_type": "code",
   "execution_count": 4,
   "metadata": {},
   "outputs": [
    {
     "name": "stdout",
     "output_type": "stream",
     "text": [
      "correct rate ~ experiment * side\n",
      "        Source     SS  DF1  DF2     MS      F     p-unc    np2 eps   sig\n",
      "0   experiment  0.000    1   41  0.000  0.000  1.000000  0.000   -  n.s.\n",
      "1         side  0.136    1   41  0.136  9.897  0.003079  0.194   1    **\n",
      "2  Interaction  0.003    1   41  0.003  0.189  0.666131  0.005   -  n.s.\n",
      "\n",
      "RT ~ experiment * side\n",
      "        Source     SS  DF1  DF2     MS      F     p-unc    np2 eps   sig\n",
      "0   experiment  0.012    1   41  0.012  0.060  0.807731  0.001   -  n.s.\n",
      "1         side  0.003    1   41  0.003  0.382  0.540013  0.009   1  n.s.\n",
      "2  Interaction  0.012    1   41  0.012  1.517  0.225125  0.036   -  n.s.\n"
     ]
    }
   ],
   "source": [
    "# correct rate ~ experiment * side\n",
    "aov_3 = pg.mixed_anova(data = df_figure_3,\n",
    "                       dv = 'correct_rate',\n",
    "                       within = 'side',\n",
    "                       between = 'experiment',\n",
    "                       subject = 'sub_name',\n",
    "                       )\n",
    "aov_3['sig'] = aov_3['p-unc'].apply(star)\n",
    "# RT ~ experiment * side\n",
    "aov_3_RT = pg.mixed_anova(data = df_figure_3_RT,\n",
    "                       dv = 'RT',\n",
    "                       within = 'side',\n",
    "                       between = 'experiment',\n",
    "                       subject = 'sub_name',\n",
    "                       )\n",
    "aov_3_RT['sig'] = aov_3_RT['p-unc'].apply(star)\n",
    "print('correct rate ~ experiment * side')\n",
    "print(aov_3)\n",
    "print()\n",
    "print(\"RT ~ experiment * side\")\n",
    "print(aov_3_RT)\n",
    "\n",
    "empty = \"\"\n",
    "for ii,row in aov_3.iterrows():\n",
    "    if row['sig'] != 'n.s.':\n",
    "        empty += f\"there was a main effect of {replacement[row['Source']]}, F({row['DF1']},{row['DF2']}) = {row['F']:.3f}, p = {row['p-unc']:.6f}, eta square = {row['np2']}\\n\\n\"\n",
    "    else:\n",
    "        empty += f\"there was no main effect of {replacement[row['Source']]}, F({row['DF1']},{row['DF2']}) = {row['F']:.3f}, p = {row['p-unc']:.6f}, eta square = {row['np2']}\\n\\n\"\n",
    "    "
   ]
  },
  {
   "cell_type": "markdown",
   "metadata": {},
   "source": [
    "## t-test of left and right ear advantage in experiment 1 and experiment 2"
   ]
  },
  {
   "cell_type": "code",
   "execution_count": 5,
   "metadata": {},
   "outputs": [
    {
     "name": "stdout",
     "output_type": "stream",
     "text": [
      "            Contrast experiment       A       B  Paired  Parametric      T  \\\n",
      "0         experiment          -  Exp. 1  Exp. 2    True        True  0.183   \n",
      "1               side          -    left   right   False        True  3.712   \n",
      "2  experiment * side     Exp. 1    left   right   False        True  2.368   \n",
      "3  experiment * side     Exp. 2    left   right   False        True  2.851   \n",
      "\n",
      "     dof       Tail     p-unc    p-corr p-adjust    BF10  hedges   sig  \n",
      "0  81.77  two-sided  0.855195       NaN      NaN   0.229   0.039  n.s.  \n",
      "1  84.00  two-sided  0.000369       NaN      NaN  71.009   0.793  n.s.  \n",
      "2  44.00  two-sided  0.022350  0.022350   fdr_bh   2.644   0.686     *  \n",
      "3  38.00  two-sided  0.007013  0.014026   fdr_bh   6.533   0.884     *  \n",
      "Exp. 1 t(21) = 2.368, p = 0.0223, corrected p = 0.0223\n",
      "Exp. 2 t(18) = 2.851, p = 0.0070, corrected p = 0.0140\n"
     ]
    },
    {
     "name": "stderr",
     "output_type": "stream",
     "text": [
      "C:\\Anaconda3\\lib\\site-packages\\pingouin\\parametric.py:198: UserWarning: x and y have unequal sizes. Switching to paired == False. Check your data.\n",
      "  warnings.warn(\"x and y have unequal sizes. Switching to \"\n",
      "C:\\Anaconda3\\lib\\site-packages\\pingouin\\effsize.py:672: UserWarning: x and y have unequal sizes. Switching to paired == False.\n",
      "  warnings.warn(\"x and y have unequal sizes. Switching to \"\n"
     ]
    }
   ],
   "source": [
    "posthoc3 = pg.pairwise_ttests(dv='correct_rate', within='experiment', between='side',\n",
    "                   subject='sub_name', data=df_figure_3, padjust='fdr_bh',\n",
    "                   )\n",
    "posthoc3['sig'] = posthoc3['p-corr'].apply(star)\n",
    "print(posthoc3)\n",
    "empty += \"A post-hoc comparison between the left and right ear effect within each experiment showed that there were significant differences between the left ear and right ear in each experiment.\\n\\n\"\n",
    "for ii,row in posthoc3.iterrows():\n",
    "    if row['sig'] != 'n.s.':\n",
    "        print(f\"{row['experiment']} t({int(row['dof']/2-1)}) = {row['T']:.3f}, p = {row['p-unc']:.4f}, corrected p = {row['p-corr']:.4f}\")\n",
    "        empty += f\"{replacement[row['experiment']]} t({int(row['dof']/2-1)}) = {row['T']:.3f}, p = {row['p-unc']:.4f}, corrected p = {row['p-corr']:.4f}\\n\\n\"\n"
   ]
  },
  {
   "cell_type": "markdown",
   "metadata": {
    "scrolled": true
   },
   "source": [
    "res_3 = dict(t=[],\n",
    "             p=[],\n",
    "             exp=[],\n",
    "             dof=[],)\n",
    "for exp,df_sub in df_figure_3.groupby(['experiment']):\n",
    "    df_sub = df_sub.sort_values(['sub_name','side'])\n",
    "    left = df_sub[df_sub['side']=='left']['correct_rate'].values\n",
    "    right = df_sub[df_sub['side']=='right']['correct_rate'].values\n",
    "    t,p = stats.ttest_rel(left,right,)\n",
    "    res_3['t'].append(t)\n",
    "    res_3['p'].append(p)\n",
    "    res_3['exp'].append(exp)\n",
    "    res_3['dof'].append(df_sub.shape[0] / 2 - 1)\n",
    "res_3 = pd.DataFrame(res_3)\n",
    "res_3 = res_3.sort_values(['p'])\n",
    "coverter = utils.MCPConverter(pvals = res_3['p'].values)\n",
    "d = coverter.adjust_many()\n",
    "res_3['p_corrected'] = d['bh'].values # multiple comparison correction\n",
    "res_3 = res_3.sort_values('exp')\n",
    "for exp,df_sub in res_3.groupby('exp'):\n",
    "    print(f\"{exp} t({int(df_sub['dof'].values[0])}) = {df_sub['t'].values[0]:.3f}, p = {df_sub['p'].values[0]:.4f}, corrected p = {df_sub['p_corrected'].values[0]:.4f}\")\n",
    "    empty += f\"{exp} t({int(df_sub['dof'].values[0])}) = {df_sub['t'].values[0]:.3f}, p = {df_sub['p'].values[0]:.4f}, corrected p = {df_sub['p_corrected'].values[0]:.4f}\\n\"\n"
   ]
  },
  {
   "cell_type": "code",
   "execution_count": 6,
   "metadata": {},
   "outputs": [],
   "source": [
    "empty += \"Multiple comparisons were corrected by BH-FDR\\n*:p < 0.05, **: p < 0.01\\n\\n\"\n",
    "fig3_summary = f'{empty}'"
   ]
  },
  {
   "cell_type": "code",
   "execution_count": 7,
   "metadata": {},
   "outputs": [
    {
     "data": {
      "image/png": "[encoded data removed]",
      "text/plain": [
       "<Figure size 1152x576 with 2 Axes>"
      ]
     },
     "metadata": {
      "needs_background": "light"
     },
     "output_type": "display_data"
    }
   ],
   "source": [
    "###### pre-define some common arguments that we will repeat over and over again #########\n",
    "args = dict(x = 'experiment', # x axis\n",
    "            hue = 'side', # split the bars\n",
    "            palette = {'left':'blue','right':'red'}, # bar color\n",
    "            capsize = .1, # errorbar capsize\n",
    "           )\n",
    "###### common arguments for annotation ########\n",
    "annotate_args = dict(xycoords='data',\n",
    "                     textcoords='data',\n",
    "                     arrowprops=dict(arrowstyle=\"-\", ec='black',\n",
    "                                    connectionstyle=\"bar,fraction=0.2\"))\n",
    "###### common arguments for adding the stars #######\n",
    "text_args = dict(weight = 'bold',\n",
    "                 horizontalalignment='center',\n",
    "                 verticalalignment='center',\n",
    "                 size = 36,)\n",
    "\n",
    "fig,axes = plt.subplots(figsize = (16,8),ncols = 2,) # define the figure with 2 columns subplots\n",
    "# subplot (2,1,1) --> correct rate ~ experiment * side\n",
    "ax = axes[0]\n",
    "line_height = .55\n",
    "text_height = .6\n",
    "ax = sns.barplot(y = 'correct_rate',\n",
    "                 data = df_figure_3,\n",
    "                 ax = ax,\n",
    "                 **args)\n",
    "ax.set(ylim =(0,0.65),\n",
    "       ylabel = 'CR',\n",
    "       xlabel = '',)\n",
    "ax.annotate(\"\", xy=(-.2, line_height), \n",
    "            xytext=(.2, line_height), \n",
    "            **annotate_args)\n",
    "ax.text(0, .6, \"*\",\n",
    "       **text_args)\n",
    "ax.annotate(\"\", xy=(1-.2, line_height),\n",
    "            xytext=(1+.2, line_height), \n",
    "            **annotate_args)\n",
    "ax.text(1, text_height, \"**\",\n",
    "       **text_args)\n",
    "ax.get_legend().remove()\n",
    "sns.despine()\n",
    "# RT\n",
    "ax = axes[1]\n",
    "ax = sns.barplot(y = 'RT',\n",
    "                 data = df_figure_3_RT,\n",
    "                 ax = ax,\n",
    "                 **args)\n",
    "ax.set(ylim =(0,2.7),\n",
    "       ylabel = 'RT (sec)',\n",
    "       xlabel = '',)\n",
    "ax.legend(loc = 'upper right')\n",
    "sns.despine()\n",
    "fig.tight_layout()\n",
    "fig.savefig(os.path.join(figures_dir,'figure 3.jpeg'),\n",
    "            dpi         = dpi,\n",
    "            bbox_inches = 'tight',)"
   ]
  },
  {
   "cell_type": "code",
   "execution_count": 8,
   "metadata": {},
   "outputs": [
    {
     "name": "stdout",
     "output_type": "stream",
     "text": [
      "there was no main effect of experiment, F(1,41) = 0.000, p = 1.000000, eta square = 0.0\n",
      "\n",
      "there was a main effect of side of ears, F(1,41) = 9.897, p = 0.003079, eta square = 0.194\n",
      "\n",
      "there was no main effect of interaction, F(1,41) = 0.189, p = 0.666131, eta square = 0.005\n",
      "\n",
      "A post-hoc comparison between the left and right ear effect within each experiment showed that there were significant differences between the left ear and right ear in each experiment.\n",
      "\n",
      "experiment 1 t(21) = 2.368, p = 0.0223, corrected p = 0.0223\n",
      "\n",
      "experiment 2 t(18) = 2.851, p = 0.0070, corrected p = 0.0140\n",
      "\n",
      "Multiple comparisons were corrected by BH-FDR\n",
      "*:p < 0.05, **: p < 0.01\n",
      "\n",
      "\n"
     ]
    }
   ],
   "source": [
    "print(fig3_summary)"
   ]
  },
  {
   "cell_type": "markdown",
   "metadata": {},
   "source": [
    "# Figure 4"
   ]
  },
  {
   "cell_type": "code",
   "execution_count": 9,
   "metadata": {},
   "outputs": [],
   "source": [
    "df_figure_4 = pd.read_csv('../results/for_figure4.csv')\n",
    "df_figure_4_RT = pd.read_csv('../results/for_figure4_RT.csv')"
   ]
  },
  {
   "cell_type": "markdown",
   "metadata": {},
   "source": [
    "# Apply a repeated measured ANOVA on correct rate as a factor of codition and side of ears in experiment 2"
   ]
  },
  {
   "cell_type": "code",
   "execution_count": 10,
   "metadata": {},
   "outputs": [
    {
     "name": "stdout",
     "output_type": "stream",
     "text": [
      "             Source     SS  ddof1  ddof2     MS      F     p-unc  p-GG-corr  \\\n",
      "0         condition  0.055      3     57  0.018  9.856  0.000025   0.000091   \n",
      "1              side  0.101      1     19  0.101  4.641  0.044269   0.044269   \n",
      "2  condition * side  0.051      3     57  0.017  1.193  0.320436   0.317747   \n",
      "\n",
      "     np2    eps   sig  \n",
      "0  0.342  0.837   ***  \n",
      "1  0.196  1.000     *  \n",
      "2  0.059  0.792  n.s.  \n"
     ]
    },
    {
     "ename": "KeyError",
     "evalue": "'condition * side'",
     "output_type": "error",
     "traceback": [
      "\u001b[1;31m---------------------------------------------------------------------------\u001b[0m",
      "\u001b[1;31mKeyError\u001b[0m                                  Traceback (most recent call last)",
      "\u001b[1;32m<ipython-input-10-a1195f4623ca>\u001b[0m in \u001b[0;36m<module>\u001b[1;34m\u001b[0m\n\u001b[0;32m     11\u001b[0m         \u001b[0mempty\u001b[0m \u001b[1;33m+=\u001b[0m \u001b[1;34mf\"there was a main effect of {replacement[row['Source']]}, F({row['ddof1']},{row['ddof2']}) = {row['F']:.4f}, p = {row['p-unc']:.4f}, corrected p = {row['p-GG-corr']:.4f}, eta sqaure = {row['np2']:.4f}\\n\\n\"\u001b[0m\u001b[1;33m\u001b[0m\u001b[1;33m\u001b[0m\u001b[0m\n\u001b[0;32m     12\u001b[0m     \u001b[1;32melse\u001b[0m\u001b[1;33m:\u001b[0m\u001b[1;33m\u001b[0m\u001b[1;33m\u001b[0m\u001b[0m\n\u001b[1;32m---> 13\u001b[1;33m         \u001b[0mempty\u001b[0m \u001b[1;33m+=\u001b[0m \u001b[1;34mf\"there was no main effect of {replacement[row['Source']]}, F({row['ddof1']},{row['ddof2']}) = {row['F']:.4f}, p = {row['p-unc']:.4f}, corrected p = {row['p-GG-corr']:.4f}, eta sqaure = {row['np2']:.4f}\\n\\n\"\u001b[0m\u001b[1;33m\u001b[0m\u001b[1;33m\u001b[0m\u001b[0m\n\u001b[0m\u001b[0;32m     14\u001b[0m \u001b[1;33m\u001b[0m\u001b[0m\n",
      "\u001b[1;31mKeyError\u001b[0m: 'condition * side'"
     ]
    }
   ],
   "source": [
    "resRM_4 = pg.rm_anova(data = df_figure_4,\n",
    "                      dv = 'correct_rate',\n",
    "                      subject = 'sub_name',\n",
    "                      within = ['condition','side'],\n",
    "                      )\n",
    "resRM_4['sig'] = resRM_4['p-GG-corr'].apply(star)\n",
    "print(resRM_4)\n",
    "empty = \"Apply a repeated measured ANOVA on correct rate as a factor of codition and side of ears in experiment 2\\n\\n\"\n",
    "for ii,row in resRM_4.iterrows():\n",
    "    if row['sig'] != 'n.s.':\n",
    "        empty += f\"there was a main effect of {replacement[row['Source']]}, F({row['ddof1']},{row['ddof2']}) = {row['F']:.4f}, p = {row['p-unc']:.4f}, corrected p = {row['p-GG-corr']:.4f}, eta sqaure = {row['np2']:.4f}\\n\\n\"\n",
    "    else:\n",
    "        empty += f\"there was no main effect of {replacement[row['Source']]}, F({row['ddof1']},{row['ddof2']}) = {row['F']:.4f}, p = {row['p-unc']:.4f}, corrected p = {row['p-GG-corr']:.4f}, eta sqaure = {row['np2']:.4f}\\n\\n\"\n",
    "    "
   ]
  },
  {
   "cell_type": "markdown",
   "metadata": {},
   "source": [
    "## Post-hoc test of the main effect of condition"
   ]
  },
  {
   "cell_type": "code",
   "execution_count": null,
   "metadata": {},
   "outputs": [],
   "source": [
    "post_4 = pg.pairwise_ttests(data = df_figure_4,\n",
    "                   dv = 'correct_rate',\n",
    "                   within = ['condition','side'],\n",
    "                   padjust ='fdr_bh', # multiple comparison correction\n",
    "                   alpha = 0.05,\n",
    "                   effsize= 'eta-square',\n",
    "                   interaction = False,\n",
    "                   parametric = True,)\n",
    "post_4['sig'] = post_4['p-unc'].apply(star)\n",
    "post_4 = post_4.sort_values('p-unc')\n",
    "print(post_4[[ 'A', 'B', 'T', 'dof','p-unc', 'p-corr','sig']].iloc[1:,:])\n",
    "empty += \"From a post-hoc comparison within each main effect:\\n\\n\"\n",
    "for ii,row in post_4.iterrows():\n",
    "    if row['sig'] != 'n.s.':\n",
    "        empty += f\"there was a significant difference between {row['A']} and {row['B']}, t({int(row['dof'])}) = {row['T']:.3f}, p = {row['p-unc']:4f}, corrected p = {row['p-corr']:.4f}\\n\\n\""
   ]
  },
  {
   "cell_type": "code",
   "execution_count": null,
   "metadata": {},
   "outputs": [],
   "source": [
    "pg.pairwise_ttests(data = df_figure_4,\n",
    "                   dv = 'correct_rate',\n",
    "                   within = ['condition','side'],\n",
    "                   padjust ='fdr_bh', # multiple comparison correction\n",
    "                   alpha = 0.05,\n",
    "                   effsize= 'eta-square',\n",
    "                   interaction = True,\n",
    "                   parametric = True,)"
   ]
  },
  {
   "cell_type": "markdown",
   "metadata": {},
   "source": [
    "## Post-hoc test of ear effect in Hummed tone and simple voxel tone condition separately"
   ]
  },
  {
   "cell_type": "markdown",
   "metadata": {},
   "source": [
    "pose_side_4 = dict(condition = [],\n",
    "                   t = [],\n",
    "                   p = [],)\n",
    "# left and right in hum and tone\n",
    "for condition in order_x[:2]:\n",
    "    df_sub = df_figure_4[df_figure_4['condition'] == condition]\n",
    "    df_sub = df_sub.sort_values(['sub_name','side'])\n",
    "    left = df_sub[df_sub['side'] == 'left']['correct_rate'].values\n",
    "    right = df_sub[df_sub['side'] == 'right']['correct_rate'].values\n",
    "    t,p = stats.ttest_rel(left,right)\n",
    "    pose_side_4['condition'].append(condition)\n",
    "    pose_side_4['t'].append(t)\n",
    "    pose_side_4['p'].append(p)\n",
    "pose_side_4 = pd.DataFrame(pose_side_4)\n",
    "pose_side_4 = pose_side_4.sort_values('p')\n",
    "converter = utils.MCPConverter(pvals = pose_side_4['p'].values)\n",
    "d = converter.adjust_many()\n",
    "pose_side_4['correct_p'] = d['bh'] # multiple comparison correction\n",
    "for condition, df_sub in pose_side_4.groupby('condition'):\n",
    "    condition = condition.replace('\\n',' ')\n",
    "    print(f\"{condition:.12s}, t = {df_sub['t'].values[0]:.3f}, p = {df_sub['p'].values[0]:.4f}, correct p = {df_sub['correct_p'].values[0]:.4f}\")"
   ]
  },
  {
   "cell_type": "markdown",
   "metadata": {},
   "source": [
    "## Apply the repeated measure ANOVA on LEA as a factor of condition"
   ]
  },
  {
   "cell_type": "code",
   "execution_count": null,
   "metadata": {},
   "outputs": [],
   "source": [
    "empty += \"we apply a repeated measure ANOVA on LEA as a factor of condition\\n\"\n",
    "rmRes_4 = pg.rm_anova(data = pd.read_csv('../results/for_figure5.csv'),\n",
    "                      dv = 'LEA',\n",
    "                      within = 'condition',\n",
    "                      subject = 'sub_name',)\n",
    "print(rmRes_4)\n",
    "for ii,row in rmRes_4.iterrows():\n",
    "    if row['p-unc'] < 0.05:\n",
    "        empty += f\"there was a main effect of {row['Source']}, F({row['ddof1']},{row['ddof2']}) = {row['F']:.3f}, p = {row['p-unc']:.4f}, eta square = {row['np2']:.4f}\\n\"\n",
    "post_rm_LEA_4 = pg.pairwise_ttests(data = pd.read_csv('../results/for_figure5.csv'),\n",
    "                      dv = 'LEA',\n",
    "                      within = 'condition',\n",
    "                      padjust ='fdr_bh', # multiple comparison correction\n",
    "                       alpha = 0.05,\n",
    "                       effsize= 'eta-square',\n",
    "                       interaction = False,\n",
    "                       parametric = True,)\n",
    "post_rm_LEA_4['sig'] = post_rm_LEA_4['p-unc'].apply(star)\n",
    "post_rm_LEA_4 = post_rm_LEA_4.sort_values('p-unc')\n",
    "print(post_rm_LEA_4[['A','B',\"T\",'dof','p-unc','p-corr','sig']])\n",
    "empty += 'From a post-hoc test comparison between each pair of conditions\\n\\n'\n",
    "for ii, row in post_rm_LEA_4.iterrows():\n",
    "    if row['sig'] != 'n.s.':\n",
    "        empty += f\"there was a marginally significant difference between {row['A']} and {row['B']}\\n\\n\"\n",
    "        empty += f\"t({int(row['dof'])}) = {row['T']:.3f}, p = {row['p-unc']:.4f}, corrected p = {row['p-corr']:.4f}\\n\\n\""
   ]
  },
  {
   "cell_type": "code",
   "execution_count": null,
   "metadata": {},
   "outputs": [],
   "source": [
    "fig4_summary = f\"{empty}\""
   ]
  },
  {
   "cell_type": "code",
   "execution_count": null,
   "metadata": {},
   "outputs": [],
   "source": [
    "fig,axes = plt.subplots(figsize = (16,16),nrows = 2)\n",
    "args = dict(x = 'condition',\n",
    "            order = order_x,\n",
    "            capsize = .1,\n",
    "            palette = {'left':'blue','right':'red'},\n",
    "            hue = 'side',)\n",
    "# response\n",
    "ax = axes[0]\n",
    "ax = sns.barplot(\n",
    "                 y = 'correct_rate',\n",
    "                 data = df_figure_4,\n",
    "                 ax = ax,\n",
    "                 **args\n",
    "                 )\n",
    "ax.set(xlabel = '',\n",
    "       xticklabels = [],\n",
    "       ylabel = 'CR',\n",
    "       ylim = (0,0.67),\n",
    "       )\n",
    "ax.legend(loc = 'upper right')\n",
    "sns.despine()\n",
    "line_height = .5\n",
    "text_height = .6\n",
    "\n",
    "ax.annotate(\"\", xy=(0, line_height),\n",
    "            xytext=(0.99, line_height),\n",
    "           **annotate_args)\n",
    "ax.text(0.5, text_height, \"*\",\n",
    "       **text_args)\n",
    "\n",
    "ax.annotate(\"\", xy=(1.01, line_height),\n",
    "            xytext=(3, line_height), \n",
    "           **annotate_args)\n",
    "ax.text(2, text_height, \"*\",\n",
    "       **text_args)\n",
    "# RT\n",
    "ax = axes[1]\n",
    "ax = sns.barplot(\n",
    "                 y = 'RT',\n",
    "                 data = df_figure_4_RT,\n",
    "                 ax = ax,\n",
    "                 **args\n",
    "                 )\n",
    "ax.set(xlabel = '',\n",
    "       ylabel = \"RT\")\n",
    "ax.set_xticklabels(ax.xaxis.get_majorticklabels(),\n",
    "                   rotation = -35, \n",
    "                   ha = 'center',\n",
    "                   weight = 'bold')\n",
    "ax.get_legend().remove()\n",
    "sns.despine()\n",
    "fig.savefig(os.path.join(figures_dir,\n",
    "                        'figure 4.jpeg'),\n",
    "           dpi = dpi,\n",
    "           bbox_inches = 'tight')"
   ]
  },
  {
   "cell_type": "markdown",
   "metadata": {},
   "source": [
    "# Figure 5"
   ]
  },
  {
   "cell_type": "code",
   "execution_count": null,
   "metadata": {},
   "outputs": [],
   "source": [
    "df_figure_5 = pd.read_csv('../results/for_figure5.csv')"
   ]
  },
  {
   "cell_type": "code",
   "execution_count": null,
   "metadata": {},
   "outputs": [],
   "source": [
    "df_figure_5.sort_values('n_condition')"
   ]
  },
  {
   "cell_type": "code",
   "execution_count": null,
   "metadata": {},
   "outputs": [],
   "source": [
    "t,p = stats.ttest_1samp(df_figure_5['adjust_LI'].values,0)\n",
    "print(f\"t = {t:.3f}, p = {p:.4f}\")"
   ]
  },
  {
   "cell_type": "code",
   "execution_count": null,
   "metadata": {},
   "outputs": [],
   "source": [
    "lm = linear_model.LinearRegression()\n",
    "cv = LeaveOneOut()\n",
    "x=df_figure_5['n_condition'].values.reshape(-1,1)\n",
    "y = df_figure_5['LI'].values\n",
    "#y = (y - y.mean()) / y.std()\n",
    "groups = df_figure_5['sub_name']\n",
    "res = cross_validate(lm,x,y,\n",
    "                     groups = groups,\n",
    "                     cv = cv,\n",
    "                     return_estimator = True,\n",
    "                     scoring = 'neg_mean_squared_error')\n",
    "score = res['test_score']\n",
    "baseline = np.array([(y_true - y.mean())**2 for y_true in y])\n",
    "weights = np.array([reg.coef_[0] for reg in res['estimator']])\n",
    "intercepts = np.array([reg.intercept_ for reg in res['estimator']])\n",
    "t,p = stats.ttest_1samp(weights,0)\n",
    "print(f\"t = {t:.3f}, p = {p:.2e}\")\n",
    "_=plt.hist(weights)"
   ]
  },
  {
   "cell_type": "code",
   "execution_count": null,
   "metadata": {},
   "outputs": [],
   "source": [
    "fig5_summary = f\"\"\"\n",
    "We applied a cross-validation procedure to estimate the linear trend of the relation between the conditions and LI. \n",
    "For each cross-validation iteration, we selected one of the 20 subjects and removed this data point from fitting the linear regression. \n",
    "We used the rest of the 19 subjects' data to fit a linear regression to predict LI as a function of condition. \n",
    "Such iteration was repeated until all the subjects were removed from the fitting dataset once, thus, we had 20 linear regression functions. \n",
    "We then compare the regression coefficients of the linear regression functions against zero by a one-sample t-test, \n",
    "and the average of the coefficients was significantly different from zero, t({19}) = {t:.3f}, p = {p:.2e}. \n",
    "On figure 5, we showed the average estimated linear regression function by a dotted line and shaded the standard error of the estimate with upper and lower bounds (in red). ***: p < 0.0001 \n",
    "\"\"\"\n",
    "print(fig5_summary.replace('\\n',''))"
   ]
  },
  {
   "cell_type": "code",
   "execution_count": null,
   "metadata": {},
   "outputs": [],
   "source": [
    "fig,ax = plt.subplots(figsize = (16,8),)\n",
    "ax = sns.pointplot(x = 'condition',\n",
    "                   order = order_x,\n",
    "                   y = 'LI',\n",
    "                   data = df_figure_5,\n",
    "                   ax = ax,\n",
    "                   markers = '.',\n",
    "                   capsize = .1,\n",
    "                   color = 'black',\n",
    "                   alpha = 0.4,)\n",
    "xx = np.linspace(0,3,100)\n",
    "yy = np.dot(xx.reshape(-1,1),weights.reshape(1,-1)) + intercepts\n",
    "yy_upper = yy.max(1)\n",
    "yy_lower = yy.min(1)\n",
    "ax.plot(xx,yy.mean(1),\n",
    "        color = 'black',\n",
    "        linestyle = '--',\n",
    "        label = 'estimated trend (mean)')\n",
    "ax.fill_between(xx,\n",
    "                yy_upper,\n",
    "                yy_lower,\n",
    "                color = 'red',\n",
    "                label = 'estimated trend (SE)',\n",
    "                )\n",
    "ax.annotate('***',\n",
    "            xy = (1.5,0.2),\n",
    "            size = 36,\n",
    "            weight = 'bold')\n",
    "ax.legend(loc = 'upper right')\n",
    "ax.set(xlabel = '',\n",
    "       ylabel = 'LI',\n",
    "       ylim = (-0.1,0.25),)\n",
    "ax.set_xticklabels(ax.xaxis.get_majorticklabels(),\n",
    "                   rotation = -35, \n",
    "                   ha = 'center',\n",
    "                   weight = 'bold')\n",
    "sns.despine()\n",
    "fig.savefig(os.path.join(figures_dir,\n",
    "                        'figure 5.jpeg'),\n",
    "           dpi = dpi,\n",
    "           bbox_inches = 'tight')"
   ]
  },
  {
   "cell_type": "code",
   "execution_count": null,
   "metadata": {},
   "outputs": [],
   "source": [
    "readme_template = \"\"\"# This repository is in responding to \"Lateralization in the dichotic listening of tones is influenced by the content of speech\"\n",
    "\n",
    "# Figure 3\n",
    "![fig3](https://github.com/nmningmei/dichotic-listening-of-tones-is-influenced-by-the-content-of-speech/blob/master/figures/figure%203.jpeg)\n",
    "\n",
    "{}\n",
    "\n",
    "# Figure 4\n",
    "![fig4](https://github.com/nmningmei/dichotic-listening-of-tones-is-influenced-by-the-content-of-speech/blob/master/figures/figure%204.jpeg)\n",
    "\n",
    "\n",
    "{}\n",
    "\n",
    "# Figure 5\n",
    "![fig5](https://github.com/nmningmei/dichotic-listening-of-tones-is-influenced-by-the-content-of-speech/blob/master/figures/figure%205.jpeg)\n",
    "\n",
    "{}\n",
    "\"\"\".format(fig3_summary,fig4_summary,fig5_summary)"
   ]
  },
  {
   "cell_type": "code",
   "execution_count": null,
   "metadata": {},
   "outputs": [],
   "source": [
    "with open('../README.md','w') as f:\n",
    "    f.write(readme_template)\n",
    "    f.close()"
   ]
  },
  {
   "cell_type": "code",
   "execution_count": null,
   "metadata": {},
   "outputs": [],
   "source": []
  }
 ],
 "metadata": {
  "kernelspec": {
   "display_name": "Python 3",
   "language": "python",
   "name": "python3"
  },
  "language_info": {
   "codemirror_mode": {
    "name": "ipython",
    "version": 3
   },
   "file_extension": ".py",
   "mimetype": "text/x-python",
   "name": "python",
   "nbconvert_exporter": "python",
   "pygments_lexer": "ipython3",
   "version": "3.7.4"
  }
 },
 "nbformat": 4,
 "nbformat_minor": 2
}
